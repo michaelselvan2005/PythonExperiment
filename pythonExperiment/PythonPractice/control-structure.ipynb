{
 "cells": [
  {
   "cell_type": "code",
   "execution_count": 2,
   "metadata": {},
   "outputs": [],
   "source": [
    "#if\n",
    "\n",
    "if():\n",
    "    print()"
   ]
  },
  {
   "cell_type": "code",
   "execution_count": 3,
   "metadata": {},
   "outputs": [],
   "source": [
    "age=int(input(\"Enter the age\"))"
   ]
  },
  {
   "cell_type": "code",
   "execution_count": 5,
   "metadata": {},
   "outputs": [
    {
     "name": "stdout",
     "output_type": "stream",
     "text": [
      "Adult\n"
     ]
    }
   ],
   "source": [
    "if(age==18):\n",
    "    print(\"Adult\")"
   ]
  },
  {
   "cell_type": "code",
   "execution_count": 6,
   "metadata": {},
   "outputs": [],
   "source": [
    "if():\n",
    "    print()\n"
   ]
  },
  {
   "cell_type": "code",
   "execution_count": 11,
   "metadata": {},
   "outputs": [],
   "source": [
    "age1=int(input(\"Enter the age1\"))"
   ]
  },
  {
   "cell_type": "code",
   "execution_count": 12,
   "metadata": {},
   "outputs": [
    {
     "name": "stdout",
     "output_type": "stream",
     "text": [
      "Adult!!!\n"
     ]
    }
   ],
   "source": [
    "if(age1<17):\n",
    "    print(\"Children\")\n",
    "else:\n",
    "    print(\"Adult!!!\")"
   ]
  },
  {
   "cell_type": "code",
   "execution_count": 14,
   "metadata": {},
   "outputs": [],
   "source": [
    "salary=int(input(\"Enetr your salary\"))"
   ]
  },
  {
   "cell_type": "code",
   "execution_count": 15,
   "metadata": {},
   "outputs": [
    {
     "name": "stdout",
     "output_type": "stream",
     "text": [
      "Architech\n"
     ]
    }
   ],
   "source": [
    "#if-elif\n",
    "\n",
    "if(salary==500000):\n",
    "    print(\"Manager\")\n",
    "elif(salary==300000):\n",
    "    print(\"Assitanace Manager\")\n",
    "elif(salary==200000):\n",
    "    print(\"Architech\")\n",
    "else:\n",
    "    print(\"Engineer\")\n"
   ]
  },
  {
   "cell_type": "code",
   "execution_count": 1,
   "metadata": {},
   "outputs": [],
   "source": [
    "lists=[500000,300000,200000]"
   ]
  },
  {
   "cell_type": "code",
   "execution_count": 2,
   "metadata": {},
   "outputs": [
    {
     "name": "stdout",
     "output_type": "stream",
     "text": [
      "Manager\n",
      "Assitanace Manager\n",
      "Architech\n"
     ]
    }
   ],
   "source": [
    "for sal in lists:\n",
    "    if(sal==500000):\n",
    "        print(\"Manager\")\n",
    "    elif(sal==300000):\n",
    "        print(\"Assitanace Manager\")\n",
    "    elif(sal==200000):\n",
    "        print(\"Architech\")\n",
    "    else:\n",
    "        print(\"Engineer\")"
   ]
  },
  {
   "cell_type": "code",
   "execution_count": null,
   "metadata": {},
   "outputs": [],
   "source": []
  },
  {
   "cell_type": "code",
   "execution_count": null,
   "metadata": {},
   "outputs": [],
   "source": []
  }
 ],
 "metadata": {
  "kernelspec": {
   "display_name": "Python 3",
   "language": "python",
   "name": "python3"
  },
  "language_info": {
   "codemirror_mode": {
    "name": "ipython",
    "version": 3
   },
   "file_extension": ".py",
   "mimetype": "text/x-python",
   "name": "python",
   "nbconvert_exporter": "python",
   "pygments_lexer": "ipython3",
   "version": "3.12.1"
  }
 },
 "nbformat": 4,
 "nbformat_minor": 2
}
